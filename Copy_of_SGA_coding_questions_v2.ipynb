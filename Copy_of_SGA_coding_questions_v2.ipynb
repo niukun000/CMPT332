{
  "nbformat": 4,
  "nbformat_minor": 0,
  "metadata": {
    "colab": {
      "name": "Copy of SGA-coding questions_v2.ipynb",
      "provenance": [],
      "collapsed_sections": [],
      "include_colab_link": true
    },
    "kernelspec": {
      "name": "python3",
      "display_name": "Python 3"
    },
    "language_info": {
      "name": "python"
    },
    "accelerator": "GPU"
  },
  "cells": [
    {
      "cell_type": "markdown",
      "metadata": {
        "id": "view-in-github",
        "colab_type": "text"
      },
      "source": [
        "<a href=\"https://colab.research.google.com/github/niukun000/CMPT332/blob/master/Copy_of_SGA_coding_questions_v2.ipynb\" target=\"_parent\"><img src=\"https://colab.research.google.com/assets/colab-badge.svg\" alt=\"Open In Colab\"/></a>"
      ]
    },
    {
      "cell_type": "markdown",
      "source": [
        "# Question 1\n",
        "\n",
        "Write a function `get_last_element` to return the last element of a list. For example, `get_last_element`$([1,2,3]) = 3$."
      ],
      "metadata": {
        "id": "ktE3-RhiZzdU"
      }
    },
    {
      "cell_type": "code",
      "source": [
        "import numpy as np"
      ],
      "metadata": {
        "id": "ZYw2d4P94lQo"
      },
      "execution_count": 2,
      "outputs": []
    },
    {
      "cell_type": "code",
      "source": [
        "# Solution goes here:\n",
        "def get_last_element(arr):\n",
        "  return arr[-1]"
      ],
      "metadata": {
        "id": "1GMjte63gI3z"
      },
      "execution_count": 3,
      "outputs": []
    },
    {
      "cell_type": "code",
      "source": [
        "# Test case:\n",
        "in_array = np.random.randn(5)\n",
        "\n",
        "print(in_array, '\\n')\n",
        "print(get_last_element(in_array))"
      ],
      "metadata": {
        "colab": {
          "base_uri": "https://localhost:8080/"
        },
        "id": "QeTAHNpKgSGU",
        "outputId": "7bc2590b-f8f2-4cfe-ad36-9191ac74a1d3"
      },
      "execution_count": 4,
      "outputs": [
        {
          "output_type": "stream",
          "name": "stdout",
          "text": [
            "[ 0.38239454  2.26696629  1.08334976 -1.12901312  0.73477147] \n",
            "\n",
            "0.734771472682955\n"
          ]
        }
      ]
    },
    {
      "cell_type": "markdown",
      "source": [
        "# Question 2\n",
        "Given the array nums, for each nums[i] find out how many numbers in the array are *strictly smaller* than it.\n",
        "\n",
        "```\n",
        "Input: nums = [8,1,2,2,3]\n",
        "Output: [4,0,1,1,3]\n",
        "Explanation: \n",
        "For nums[0]=8 there exist four smaller numbers than it (1, 2, 2 and 3). \n",
        "For nums[1]=1 does not exist any smaller number than it.\n",
        "For nums[2]=2 there exist one smaller number than it (1). \n",
        "For nums[3]=2 there exist one smaller number than it (1). \n",
        "For nums[4]=3 there exist three smaller numbers than it (1, 2 and 2).\n",
        "```\n",
        "\n"
      ],
      "metadata": {
        "id": "DnuKWD-u1ypk"
      }
    },
    {
      "cell_type": "code",
      "source": [
        "# Solution goes here:\n",
        "def get_smaller_counts(nums):\n",
        "    L = []\n",
        "    count = 0\n",
        "    for i in nums:\n",
        "      for j in nums:\n",
        "        if j < i:\n",
        "          count +=1\n",
        "      L.append(count)\n",
        "      count = 0\n",
        "    return L\n",
        "      "
      ],
      "metadata": {
        "id": "XPvXgzr_5Y_G"
      },
      "execution_count": 9,
      "outputs": []
    },
    {
      "cell_type": "code",
      "source": [
        "# Test case:\n",
        "in_arr = [8, 1, 2, 2, 3]\n",
        "get_smaller_counts(in_arr)"
      ],
      "metadata": {
        "id": "AJFcrBxs5eL2",
        "outputId": "f4092900-0837-4cde-9da1-cdbe00291afe",
        "colab": {
          "base_uri": "https://localhost:8080/"
        }
      },
      "execution_count": 10,
      "outputs": [
        {
          "output_type": "execute_result",
          "data": {
            "text/plain": [
              "[4, 0, 1, 1, 3]"
            ]
          },
          "metadata": {},
          "execution_count": 10
        }
      ]
    },
    {
      "cell_type": "markdown",
      "source": [
        "# Question 3\n",
        "\n",
        "Given an array of integers and an integer target, return indices of the two numbers such that they add up to target.\n",
        "\n",
        "Example:\n",
        "* Input: nums = [2, 7, 11, 15], target = 9\n",
        "* Output:  [0, 1]\n",
        "* Explain: nums[0] + nums[1] = 9\n"
      ],
      "metadata": {
        "id": "ufWzvRph4dKc"
      }
    },
    {
      "cell_type": "code",
      "source": [
        "# Solution goes here:\n",
        "def get_sum_indices(arr, target):\n",
        "  \n",
        "  for i in range(len(arr)):\n",
        "    for j in range(i+1, len(arr)):\n",
        "      if arr[i]+arr[j]==target:\n",
        "        return [i, j]\n",
        "      \n"
      ],
      "metadata": {
        "id": "3NyUbwpF4iIG"
      },
      "execution_count": 25,
      "outputs": []
    },
    {
      "cell_type": "code",
      "source": [
        "# Test case:\n",
        "in_arr = [2, 7, 11, 15]\n",
        "print(get_sum_indices(in_arr, target=13))\n",
        "print(get_sum_indices(in_arr, target=22))\n",
        "print(get_sum_indices(in_arr, target=12))"
      ],
      "metadata": {
        "id": "jYAnPOgkIROH",
        "outputId": "556fcb95-5482-4507-b6ee-d77bb051fe05",
        "colab": {
          "base_uri": "https://localhost:8080/"
        }
      },
      "execution_count": 26,
      "outputs": [
        {
          "output_type": "stream",
          "name": "stdout",
          "text": [
            "[0, 2]\n",
            "[1, 3]\n",
            "None\n"
          ]
        }
      ]
    },
    {
      "cell_type": "markdown",
      "source": [
        "# **DATA SCIENCE**"
      ],
      "metadata": {
        "id": "eb3xrpkA43jY"
      }
    },
    {
      "cell_type": "markdown",
      "source": [
        "# Question 4\n",
        "Vectorize the following function using NumPy.\n",
        "\n"
      ],
      "metadata": {
        "id": "gIPPdNUILO8I"
      }
    },
    {
      "cell_type": "code",
      "source": [
        "def square_of_sums(a, b):\n",
        "    assert len(a) == len(b)\n",
        "    \n",
        "    out = []\n",
        "    for i in range(len(a)):\n",
        "        result = (a[i] + b[i]) ** 2\n",
        "        out.append(result)\n",
        "\n",
        "    return out"
      ],
      "metadata": {
        "id": "uwp7sWnnJ6BU"
      },
      "execution_count": null,
      "outputs": []
    },
    {
      "cell_type": "code",
      "source": [
        "a_array = [2, 5, 4, 8, 3]\n",
        "b_array = [8, 4, 3, 6, 7]\n",
        "\n",
        "square_of_sums(a_array, b_array)"
      ],
      "metadata": {
        "colab": {
          "base_uri": "https://localhost:8080/"
        },
        "id": "OCKDtunZKg9i",
        "outputId": "a38f5b92-6f37-4196-b6cc-a020ce6fd1c9"
      },
      "execution_count": null,
      "outputs": [
        {
          "output_type": "execute_result",
          "data": {
            "text/plain": [
              "[100, 81, 49, 196, 100]"
            ]
          },
          "metadata": {},
          "execution_count": 18
        }
      ]
    },
    {
      "cell_type": "code",
      "source": [
        "# Solution goes here:\n",
        "def vectorized_square_of_sums(a, b):\n",
        "    result = a+b\n",
        "    result = np.power(result, 2)\n",
        "    return result"
      ],
      "metadata": {
        "id": "ovviVPk5KunR"
      },
      "execution_count": 13,
      "outputs": []
    },
    {
      "cell_type": "code",
      "source": [
        "# Test case:\n",
        "a_ndarray = np.array([2, 5, 4, 8, 3])\n",
        "b_ndarray = np.array([8, 4, 3, 6, 7])\n",
        "\n",
        "vectorized_square_of_sums(a_ndarray, b_ndarray)"
      ],
      "metadata": {
        "id": "cx5L_D-NLB3M",
        "outputId": "245d0e57-57ca-46b5-91ab-ed9972acbe3b",
        "colab": {
          "base_uri": "https://localhost:8080/"
        }
      },
      "execution_count": 14,
      "outputs": [
        {
          "output_type": "execute_result",
          "data": {
            "text/plain": [
              "array([100,  81,  49, 196, 100])"
            ]
          },
          "metadata": {},
          "execution_count": 14
        }
      ]
    },
    {
      "cell_type": "markdown",
      "source": [
        "# Question 5\n",
        "\n",
        "Given a n-dimensional array (ndarray or tensor) $X$ where $n\\geq1$ integer, and a threshold $\\tau \\in \\mathbb{R}$, write a function denoted by `replace_with_thresh` to replace all values of $X$ that are strictly greater than $\\tau$, otherwise keep the same as it is.\n",
        "\n",
        "<br>\n",
        "\n",
        "For example, if $X = [5,1,4,2,3]$ and $\\tau = 3$, then `replace_with_thresh` returns $[3,1,3,2,3]$. Moreover, if $X = \\begin{bmatrix}-1&2\\\\2&-1\\end{bmatrix}$ and $\\tau = 0$, then `replace_with_thresh` returns $\\begin{bmatrix}-1&0\\\\0&-1\\end{bmatrix}$."
      ],
      "metadata": {
        "id": "1lnUm9hgYzo1"
      }
    },
    {
      "cell_type": "code",
      "source": [
        "# Solution goes here:\n",
        "def replace_with_thresh(arr, thresh):\n",
        "    arr[arr>thresh] = thresh"
      ],
      "metadata": {
        "id": "3Z8ySKKkLUme"
      },
      "execution_count": 58,
      "outputs": []
    },
    {
      "cell_type": "code",
      "source": [
        "# Test case:\n",
        "in_array = np.random.randint(1, 100, (3, 5))\n",
        "\n",
        "# print(in_array, '\\n')\n",
        "replace_with_thresh(in_array, thresh=30)\n",
        "print(in_array)"
      ],
      "metadata": {
        "id": "TY8Wyxr44iOL",
        "outputId": "d8bc9974-1193-4e5b-885c-40b3debbb926",
        "colab": {
          "base_uri": "https://localhost:8080/"
        }
      },
      "execution_count": 61,
      "outputs": [
        {
          "output_type": "stream",
          "name": "stdout",
          "text": [
            "[[30 30  3 30 22]\n",
            " [30  3 30 30 30]\n",
            " [30 14 30 30 25]]\n"
          ]
        }
      ]
    },
    {
      "cell_type": "markdown",
      "source": [
        "# **MACHINE LEARNING**"
      ],
      "metadata": {
        "id": "QhISqhmb9qWU"
      }
    },
    {
      "cell_type": "markdown",
      "source": [
        "# Question 6"
      ],
      "metadata": {
        "id": "b3boCScQmWON"
      }
    },
    {
      "cell_type": "code",
      "source": [
        "from tensorflow.keras.datasets import cifar10\n",
        "\n",
        "(train_images, train_labels), (test_images, test_labels) = cifar10.load_data()\n",
        "height, width = train_images.shape[1], train_images.shape[2]"
      ],
      "metadata": {
        "id": "F8UpVJL7n6Ec",
        "colab": {
          "base_uri": "https://localhost:8080/"
        },
        "outputId": "6757392c-a03b-482d-aeb0-1c690370353a"
      },
      "execution_count": 19,
      "outputs": [
        {
          "output_type": "stream",
          "name": "stdout",
          "text": [
            "Downloading data from https://www.cs.toronto.edu/~kriz/cifar-10-python.tar.gz\n",
            "170500096/170498071 [==============================] - 2s 0us/step\n",
            "170508288/170498071 [==============================] - 2s 0us/step\n"
          ]
        }
      ]
    },
    {
      "cell_type": "code",
      "source": [
        "import matplotlib.pyplot as plt\n",
        "\n",
        "# visualizing the training set.\n",
        "n_classes = 10\n",
        "scale = 1.7\n",
        "nrows, ncols = 4, 4\n",
        "figsize = (ncols * scale, nrows * scale)\n",
        "_, axs = plt.subplots(nrows, ncols, figsize=figsize)\n",
        "axs = axs.flatten()\n",
        "\n",
        "for i in range(n_classes):\n",
        "    axs[i].imshow(train_images[train_labels.flatten() == i][0])\n",
        "    axs[i].axis('off')\n",
        "for i in range(n_classes, nrows * ncols):\n",
        "    axs[i].remove()\n",
        "    \n",
        "plt.tight_layout()\n",
        "plt.show()"
      ],
      "metadata": {
        "colab": {
          "base_uri": "https://localhost:8080/",
          "height": 379
        },
        "id": "0oTs5QbGn8tY",
        "outputId": "6eae3f95-0d8b-466f-ef1d-5a3a23d93acb"
      },
      "execution_count": 20,
      "outputs": [
        {
          "output_type": "display_data",
          "data": {
            "text/plain": [
              "<Figure size 489.6x489.6 with 10 Axes>"
            ],
            "image/png": "[encoded data removed]"
          },
          "metadata": {
            "needs_background": "light"
          }
        }
      ]
    },
    {
      "cell_type": "code",
      "source": [
        "from tensorflow.keras.utils import to_categorical\n",
        "\n",
        "train_images, train_labels = train_images[:5000], to_categorical(train_labels[:5000])\n",
        "test_images, test_labels = test_images[:1000], to_categorical(test_labels[:1000])\n",
        "\n",
        "train_images.shape, train_labels.shape"
      ],
      "metadata": {
        "colab": {
          "base_uri": "https://localhost:8080/"
        },
        "id": "qOms8pgXomE_",
        "outputId": "9ee59777-12ab-4479-e116-2ac20ae3c6a0"
      },
      "execution_count": 21,
      "outputs": [
        {
          "output_type": "execute_result",
          "data": {
            "text/plain": [
              "((5000, 32, 32, 3), (5000, 10))"
            ]
          },
          "metadata": {},
          "execution_count": 21
        }
      ]
    },
    {
      "cell_type": "markdown",
      "source": [
        "## Identify the three mistakes in the following code:"
      ],
      "metadata": {
        "id": "btOCgp7PsdmO"
      }
    },
    {
      "cell_type": "code",
      "source": [
        "import tensorflow as tf\n",
        "from tensorflow.keras import layers\n",
        "from tensorflow.keras import models\n",
        "\n",
        "def get_cnn():\n",
        "    cnn_model = models.Sequential()\n",
        "\n",
        "    cnn_model.add(layers.Conv2D(32, (3, 3), \n",
        "                                activation='relu', \n",
        "                                input_shape=(height, width, 3)))\n",
        "    cnn_model.add(layers.Conv2D(64, (3, 3), activation='relu'))\n",
        "    cnn_model.add(layers.Conv2D(128, (3, 3), activation='relu'))\n",
        "    \n",
        "    cnn_model.add(layers.MaxPooling2D((2, 2)))\n",
        "\n",
        "    cnn_model.add(layers.Flatten())\n",
        "    cnn_model.add(layers.Dense(64, activation='relu'))\n",
        "    cnn_model.add(layers.Dense(32, activation='relu'))  # Classification layer\n",
        "\n",
        "    cnn_model.compile(optimizer=tf.keras.optimizers.SGD(1e-4),  # Stochastic Gradient Descent\n",
        "                      loss='mse',  # Mean Squared Error\n",
        "                      metrics=['accuracy'])\n",
        "\n",
        "    return cnn_model\n",
        "\n",
        "cnn_model = get_cnn()\n",
        "cnn_model.fit(train_images, \n",
        "              train_labels, \n",
        "              epochs=10, \n",
        "              batch_size=64, \n",
        "              validation_split=0.8)"
      ],
      "metadata": {
        "colab": {
          "base_uri": "https://localhost:8080/",
          "height": 772
        },
        "id": "J3Vu3JApmVx8",
        "outputId": "7ecf7493-738d-4fc6-9996-06d69988cda0"
      },
      "execution_count": 62,
      "outputs": [
        {
          "output_type": "stream",
          "name": "stdout",
          "text": [
            "Epoch 1/10\n"
          ]
        },
        {
          "output_type": "error",
          "ename": "ValueError",
          "evalue": "ignored",
          "traceback": [
            "\u001b[0;31m---------------------------------------------------------------------------\u001b[0m",
            "\u001b[0;31mValueError\u001b[0m                                Traceback (most recent call last)",
            "\u001b[0;32m<ipython-input-62-1bf39eae6e1e>\u001b[0m in \u001b[0;36m<module>\u001b[0;34m()\u001b[0m\n\u001b[1;32m     29\u001b[0m               \u001b[0mepochs\u001b[0m\u001b[0;34m=\u001b[0m\u001b[0;36m10\u001b[0m\u001b[0;34m,\u001b[0m\u001b[0;34m\u001b[0m\u001b[0;34m\u001b[0m\u001b[0m\n\u001b[1;32m     30\u001b[0m               \u001b[0mbatch_size\u001b[0m\u001b[0;34m=\u001b[0m\u001b[0;36m64\u001b[0m\u001b[0;34m,\u001b[0m\u001b[0;34m\u001b[0m\u001b[0;34m\u001b[0m\u001b[0m\n\u001b[0;32m---> 31\u001b[0;31m               validation_split=0.8)\n\u001b[0m",
            "\u001b[0;32m/usr/local/lib/python3.7/dist-packages/keras/utils/traceback_utils.py\u001b[0m in \u001b[0;36merror_handler\u001b[0;34m(*args, **kwargs)\u001b[0m\n\u001b[1;32m     65\u001b[0m     \u001b[0;32mexcept\u001b[0m \u001b[0mException\u001b[0m \u001b[0;32mas\u001b[0m \u001b[0me\u001b[0m\u001b[0;34m:\u001b[0m  \u001b[0;31m# pylint: disable=broad-except\u001b[0m\u001b[0;34m\u001b[0m\u001b[0;34m\u001b[0m\u001b[0m\n\u001b[1;32m     66\u001b[0m       \u001b[0mfiltered_tb\u001b[0m \u001b[0;34m=\u001b[0m \u001b[0m_process_traceback_frames\u001b[0m\u001b[0;34m(\u001b[0m\u001b[0me\u001b[0m\u001b[0;34m.\u001b[0m\u001b[0m__traceback__\u001b[0m\u001b[0;34m)\u001b[0m\u001b[0;34m\u001b[0m\u001b[0;34m\u001b[0m\u001b[0m\n\u001b[0;32m---> 67\u001b[0;31m       \u001b[0;32mraise\u001b[0m \u001b[0me\u001b[0m\u001b[0;34m.\u001b[0m\u001b[0mwith_traceback\u001b[0m\u001b[0;34m(\u001b[0m\u001b[0mfiltered_tb\u001b[0m\u001b[0;34m)\u001b[0m \u001b[0;32mfrom\u001b[0m \u001b[0;32mNone\u001b[0m\u001b[0;34m\u001b[0m\u001b[0;34m\u001b[0m\u001b[0m\n\u001b[0m\u001b[1;32m     68\u001b[0m     \u001b[0;32mfinally\u001b[0m\u001b[0;34m:\u001b[0m\u001b[0;34m\u001b[0m\u001b[0;34m\u001b[0m\u001b[0m\n\u001b[1;32m     69\u001b[0m       \u001b[0;32mdel\u001b[0m \u001b[0mfiltered_tb\u001b[0m\u001b[0;34m\u001b[0m\u001b[0;34m\u001b[0m\u001b[0m\n",
            "\u001b[0;32m/usr/local/lib/python3.7/dist-packages/tensorflow/python/framework/func_graph.py\u001b[0m in \u001b[0;36mautograph_handler\u001b[0;34m(*args, **kwargs)\u001b[0m\n\u001b[1;32m   1145\u001b[0m           \u001b[0;32mexcept\u001b[0m \u001b[0mException\u001b[0m \u001b[0;32mas\u001b[0m \u001b[0me\u001b[0m\u001b[0;34m:\u001b[0m  \u001b[0;31m# pylint:disable=broad-except\u001b[0m\u001b[0;34m\u001b[0m\u001b[0;34m\u001b[0m\u001b[0m\n\u001b[1;32m   1146\u001b[0m             \u001b[0;32mif\u001b[0m \u001b[0mhasattr\u001b[0m\u001b[0;34m(\u001b[0m\u001b[0me\u001b[0m\u001b[0;34m,\u001b[0m \u001b[0;34m\"ag_error_metadata\"\u001b[0m\u001b[0;34m)\u001b[0m\u001b[0;34m:\u001b[0m\u001b[0;34m\u001b[0m\u001b[0;34m\u001b[0m\u001b[0m\n\u001b[0;32m-> 1147\u001b[0;31m               \u001b[0;32mraise\u001b[0m \u001b[0me\u001b[0m\u001b[0;34m.\u001b[0m\u001b[0mag_error_metadata\u001b[0m\u001b[0;34m.\u001b[0m\u001b[0mto_exception\u001b[0m\u001b[0;34m(\u001b[0m\u001b[0me\u001b[0m\u001b[0;34m)\u001b[0m\u001b[0;34m\u001b[0m\u001b[0;34m\u001b[0m\u001b[0m\n\u001b[0m\u001b[1;32m   1148\u001b[0m             \u001b[0;32melse\u001b[0m\u001b[0;34m:\u001b[0m\u001b[0;34m\u001b[0m\u001b[0;34m\u001b[0m\u001b[0m\n\u001b[1;32m   1149\u001b[0m               \u001b[0;32mraise\u001b[0m\u001b[0;34m\u001b[0m\u001b[0;34m\u001b[0m\u001b[0m\n",
            "\u001b[0;31mValueError\u001b[0m: in user code:\n\n    File \"/usr/local/lib/python3.7/dist-packages/keras/engine/training.py\", line 1021, in train_function  *\n        return step_function(self, iterator)\n    File \"/usr/local/lib/python3.7/dist-packages/keras/engine/training.py\", line 1010, in step_function  **\n        outputs = model.distribute_strategy.run(run_step, args=(data,))\n    File \"/usr/local/lib/python3.7/dist-packages/keras/engine/training.py\", line 1000, in run_step  **\n        outputs = model.train_step(data)\n    File \"/usr/local/lib/python3.7/dist-packages/keras/engine/training.py\", line 860, in train_step\n        loss = self.compute_loss(x, y, y_pred, sample_weight)\n    File \"/usr/local/lib/python3.7/dist-packages/keras/engine/training.py\", line 919, in compute_loss\n        y, y_pred, sample_weight, regularization_losses=self.losses)\n    File \"/usr/local/lib/python3.7/dist-packages/keras/engine/compile_utils.py\", line 201, in __call__\n        loss_value = loss_obj(y_t, y_p, sample_weight=sw)\n    File \"/usr/local/lib/python3.7/dist-packages/keras/losses.py\", line 141, in __call__\n        losses = call_fn(y_true, y_pred)\n    File \"/usr/local/lib/python3.7/dist-packages/keras/losses.py\", line 245, in call  **\n        return ag_fn(y_true, y_pred, **self._fn_kwargs)\n    File \"/usr/local/lib/python3.7/dist-packages/keras/losses.py\", line 1329, in mean_squared_error\n        return backend.mean(tf.math.squared_difference(y_pred, y_true), axis=-1)\n\n    ValueError: Dimensions must be equal, but are 32 and 10 for '{{node mean_squared_error/SquaredDifference}} = SquaredDifference[T=DT_FLOAT](sequential_3/dense_5/Relu, IteratorGetNext:1)' with input shapes: [?,32], [?,10].\n"
          ]
        }
      ]
    },
    {
      "cell_type": "code",
      "source": [
        "test_loss, test_acc = cnn_model.evaluate(test_images, test_labels)\n",
        "print(\"test_loss: %s, test_acc: %s\" % (\n",
        "    np.round(test_loss,3), np.round(test_acc,3)))"
      ],
      "metadata": {
        "id": "nKPplr0rm_UT"
      },
      "execution_count": null,
      "outputs": []
    },
    {
      "cell_type": "markdown",
      "source": [
        "## When training `cnn_model` with small hyperparameters, what would be the expected initial loss without regularization?"
      ],
      "metadata": {
        "id": "CQJucwPwr12k"
      }
    },
    {
      "cell_type": "code",
      "source": [
        ""
      ],
      "metadata": {
        "id": "6vgBd5qnyA3d"
      },
      "execution_count": null,
      "outputs": []
    }
  ]
}